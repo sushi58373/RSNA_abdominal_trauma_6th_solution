{
 "cells": [
  {
   "cell_type": "markdown",
   "id": "67370692",
   "metadata": {
    "papermill": {
     "duration": 0.005604,
     "end_time": "2023-08-12T16:02:41.992181",
     "exception": false,
     "start_time": "2023-08-12T16:02:41.986577",
     "status": "completed"
    },
    "tags": []
   },
   "source": [
    "Adapted from : https://www.kaggle.com/code/theoviel/dicom-resized-png-jpg\n",
    "\n",
    "**Dataset Links :**\n",
    "- Part 1 : https://www.kaggle.com/datasets/theoviel/rsna-abdominal-trauma-detection-png-pt1\n",
    "- Part 2 : https://www.kaggle.com/datasets/theoviel/rsna-abdominal-trauma-detection-png-pt2\n",
    "- Part 3 : https://www.kaggle.com/datasets/theoviel/rsna-2023-abdominal-trauma-detection-pngs-3-8\n",
    "- Part 4 : https://www.kaggle.com/datasets/theoviel/rsna-abdominal-trauma-detection-png-pt4\n",
    "- Part 5 : https://www.kaggle.com/datasets/theoviel/rsna-abdominal-trauma-detection-png-pt5\n",
    "- Part 6 : https://www.kaggle.com/datasets/theoviel/rsna-abdominal-trauma-detection-png-pt6\n",
    "- Part 7 : https://www.kaggle.com/datasets/theoviel/rsna-abdominal-trauma-detection-pngs-pt7\n",
    "- Part 8 : https://www.kaggle.com/datasets/theoviel/rsna-2023-abdominal-trauma-detection-pngs-18\n",
    "\n",
    "**Changes :**\n",
    "- Apply `standardize_pixel_array` function\n",
    "- Update links\n",
    "- Remove `apply_voi_luit`\n",
    "- Add rescaling, thanks @sukharev !\n",
    "\n",
    "**TODO :**\n",
    "- Dicom processing on GPU\n",
    "- Figure out why example dicom is too dark"
   ]
  },
  {
   "cell_type": "code",
   "execution_count": 5,
   "id": "6c7f35ea",
   "metadata": {
    "execution": {
     "iopub.execute_input": "2023-08-12T16:02:42.004572Z",
     "iopub.status.busy": "2023-08-12T16:02:42.004079Z",
     "iopub.status.idle": "2023-08-12T16:03:00.501413Z",
     "shell.execute_reply": "2023-08-12T16:03:00.499902Z"
    },
    "papermill": {
     "duration": 18.507433,
     "end_time": "2023-08-12T16:03:00.504694",
     "exception": false,
     "start_time": "2023-08-12T16:02:41.997261",
     "status": "completed"
    },
    "tags": []
   },
   "outputs": [],
   "source": [
    "# !pip install -qU python-gdcm pydicom pylibjpeg"
   ]
  },
  {
   "cell_type": "code",
   "execution_count": 1,
   "id": "68e6ad4e",
   "metadata": {
    "_cell_guid": "b1076dfc-b9ad-4769-8c92-a6c4dae69d19",
    "_uuid": "8f2839f25d086af736a60e9eeb907d3b93b6e0e5",
    "execution": {
     "iopub.execute_input": "2023-08-12T16:03:00.516834Z",
     "iopub.status.busy": "2023-08-12T16:03:00.516342Z",
     "iopub.status.idle": "2023-08-12T16:03:02.824246Z",
     "shell.execute_reply": "2023-08-12T16:03:02.823119Z"
    },
    "papermill": {
     "duration": 2.317669,
     "end_time": "2023-08-12T16:03:02.827155",
     "exception": false,
     "start_time": "2023-08-12T16:03:00.509486",
     "status": "completed"
    },
    "tags": []
   },
   "outputs": [],
   "source": [
    "import os\n",
    "import cv2\n",
    "import glob\n",
    "import gdcm\n",
    "import pydicom\n",
    "import zipfile\n",
    "import numpy as np\n",
    "import pandas as pd\n",
    "import seaborn as sns\n",
    "import matplotlib.pyplot as plt\n",
    "\n",
    "from tqdm import tqdm\n",
    "from joblib import Parallel, delayed\n",
    "from pydicom.pixel_data_handlers.util import apply_voi_lut"
   ]
  },
  {
   "cell_type": "code",
   "execution_count": 2,
   "id": "2426429a",
   "metadata": {
    "execution": {
     "iopub.execute_input": "2023-08-12T16:03:02.838899Z",
     "iopub.status.busy": "2023-08-12T16:03:02.838455Z",
     "iopub.status.idle": "2023-08-12T16:03:02.848019Z",
     "shell.execute_reply": "2023-08-12T16:03:02.846786Z"
    },
    "papermill": {
     "duration": 0.018362,
     "end_time": "2023-08-12T16:03:02.850516",
     "exception": false,
     "start_time": "2023-08-12T16:03:02.832154",
     "status": "completed"
    },
    "tags": []
   },
   "outputs": [],
   "source": [
    "def standardize_pixel_array(dcm: pydicom.dataset.FileDataset) -> np.ndarray:\n",
    "    \"\"\"\n",
    "    Source : https://www.kaggle.com/competitions/rsna-2023-abdominal-trauma-detection/discussion/427217\n",
    "    \"\"\"\n",
    "    # Correct DICOM pixel_array if PixelRepresentation == 1.\n",
    "    pixel_array = dcm.pixel_array\n",
    "    if dcm.PixelRepresentation == 1:\n",
    "        bit_shift = dcm.BitsAllocated - dcm.BitsStored\n",
    "        dtype = pixel_array.dtype \n",
    "        pixel_array = (pixel_array << bit_shift).astype(dtype) >>  bit_shift\n",
    "#         pixel_array = pydicom.pixel_data_handlers.util.apply_modality_lut(new_array, dcm)\n",
    "\n",
    "    intercept = float(dcm.RescaleIntercept)\n",
    "    slope = float(dcm.RescaleSlope)\n",
    "    center = int(dcm.WindowCenter)\n",
    "    width = int(dcm.WindowWidth)\n",
    "    low = center - width / 2\n",
    "    high = center + width / 2    \n",
    "    \n",
    "    pixel_array = (pixel_array * slope) + intercept\n",
    "    pixel_array = np.clip(pixel_array, low, high)\n",
    "\n",
    "    return pixel_array"
   ]
  },
  {
   "cell_type": "code",
   "execution_count": null,
   "id": "52fbf5b1",
   "metadata": {},
   "outputs": [],
   "source": [
    "TRAIN_PATH = \"data/dataset/train_images/\"\n",
    "\n",
    "print('Number of training patients :', len(os.listdir(TRAIN_PATH)))"
   ]
  },
  {
   "cell_type": "code",
   "execution_count": null,
   "id": "2adfaa30",
   "metadata": {},
   "outputs": [],
   "source": [
    "for patient in sorted(os.listdir(TRAIN_PATH)):\n",
    "    for study in os.listdir(TRAIN_PATH + patient):\n",
    "        imgs = {}\n",
    "        for f in sorted(glob.glob(TRAIN_PATH + f\"{patient}/{study}/*.dcm\"))[::10]:\n",
    "            dicom = pydicom.dcmread(f)\n",
    "\n",
    "            pos_z = dicom[(0x20, 0x32)].value[-1]  # to retrieve the order of frames\n",
    "\n",
    "            img = standardize_pixel_array(dicom)\n",
    "            img = (img - img.min()) / (img.max() - img.min() + 1e-6)\n",
    "\n",
    "            if dicom.PhotometricInterpretation == \"MONOCHROME1\":\n",
    "                img = 1 - img\n",
    "\n",
    "            imgs[pos_z] = img\n",
    "\n",
    "        for i, k in enumerate(sorted(imgs.keys())):\n",
    "            img = imgs[k]\n",
    "            \n",
    "            if not (i % 100):\n",
    "                plt.figure(figsize=(5, 5))\n",
    "                plt.imshow(img, cmap=\"gray\")\n",
    "                plt.title(f\"Patient {patient} - Study {study} - Frame {i}/{len(imgs)}\")\n",
    "                plt.axis(False)\n",
    "                plt.show()"
   ]
  },
  {
   "cell_type": "markdown",
   "id": "b8b24194",
   "metadata": {
    "papermill": {
     "duration": 0.007706,
     "end_time": "2023-08-12T16:03:07.498378",
     "exception": false,
     "start_time": "2023-08-12T16:03:07.490672",
     "status": "completed"
    },
    "tags": []
   },
   "source": [
    "### Save the processed data"
   ]
  },
  {
   "cell_type": "code",
   "execution_count": 4,
   "id": "39cc419a",
   "metadata": {
    "execution": {
     "iopub.execute_input": "2023-08-12T16:03:07.516506Z",
     "iopub.status.busy": "2023-08-12T16:03:07.515992Z",
     "iopub.status.idle": "2023-08-12T16:03:07.528019Z",
     "shell.execute_reply": "2023-08-12T16:03:07.526686Z"
    },
    "papermill": {
     "duration": 0.024565,
     "end_time": "2023-08-12T16:03:07.530877",
     "exception": false,
     "start_time": "2023-08-12T16:03:07.506312",
     "status": "completed"
    },
    "tags": []
   },
   "outputs": [],
   "source": [
    "def process(patient, size=512, save_folder=\"\", data_path=\"\"):\n",
    "    for study in sorted(os.listdir(data_path + patient)):\n",
    "        imgs = {}\n",
    "        for f in sorted(glob.glob(data_path + f\"{patient}/{study}/*.dcm\")):\n",
    "            dicom = pydicom.dcmread(f)\n",
    "\n",
    "            pos_z = dicom[(0x20, 0x32)].value[-1]\n",
    "\n",
    "            img = standardize_pixel_array(dicom)\n",
    "            img = (img - img.min()) / (img.max() - img.min() + 1e-6)\n",
    "\n",
    "            if dicom.PhotometricInterpretation == \"MONOCHROME1\":\n",
    "                img = 1 - img\n",
    "\n",
    "            imgs[pos_z] = img\n",
    "\n",
    "\n",
    "            print(pos_z, end=' ')\n",
    "\n",
    "        for i, k in enumerate(sorted(imgs.keys())):\n",
    "            img = imgs[k]\n",
    "\n",
    "            if size is not None:\n",
    "                img = cv2.resize(img, (size, size))\n",
    "\n",
    "            # if isinstance(save_folder, str):\n",
    "            #     cv2.imwrite(save_folder + f\"{patient}_{study}_{i}.png\", (img * 255).astype(np.uint8))\n",
    "            # else:\n",
    "            #     im = cv2.imencode('.png', (img * 255).astype(np.uint8))[1]\n",
    "            #     save_folder.writestr(f'{patient}_{study}_{i:04d}.png', im)"
   ]
  },
  {
   "cell_type": "code",
   "execution_count": null,
   "id": "def1a31b",
   "metadata": {},
   "outputs": [],
   "source": [
    "patients = os.listdir(TRAIN_PATH)\n",
    "\n",
    "len(patients)"
   ]
  },
  {
   "cell_type": "code",
   "execution_count": 22,
   "id": "25e4cd34",
   "metadata": {
    "execution": {
     "iopub.execute_input": "2023-08-12T16:03:07.582359Z",
     "iopub.status.busy": "2023-08-12T16:03:07.581893Z",
     "iopub.status.idle": "2023-08-12T17:53:43.956019Z",
     "shell.execute_reply": "2023-08-12T17:53:43.954068Z"
    },
    "papermill": {
     "duration": 6636.388369,
     "end_time": "2023-08-12T17:53:43.959873",
     "exception": false,
     "start_time": "2023-08-12T16:03:07.571504",
     "status": "completed"
    },
    "tags": []
   },
   "outputs": [
    {
     "name": "stderr",
     "output_type": "stream",
     "text": [
      "100%|██████████| 3147/3147 [3:33:35<00:00,  4.07s/it]  \n"
     ]
    }
   ],
   "source": [
    "# with zipfile.ZipFile(\"output.zip\", 'w') as save_folder:\n",
    "#     for patient in tqdm(patients):\n",
    "#         process(patient, size=None, save_folder=save_folder, data_path=TRAIN_PATH)\n",
    "\n",
    "save_folder = 'data/png_folder/'\n",
    "for patient in tqdm(patients):\n",
    "    process(patient, size=None, save_folder=save_folder, data_path=TRAIN_PATH)"
   ]
  },
  {
   "cell_type": "code",
   "execution_count": 23,
   "id": "26a76d62",
   "metadata": {},
   "outputs": [
    {
     "data": {
      "text/plain": [
       "1500653"
      ]
     },
     "execution_count": 23,
     "metadata": {},
     "output_type": "execute_result"
    }
   ],
   "source": [
    "len(glob.glob('data/png_folder/*'))"
   ]
  },
  {
   "cell_type": "code",
   "execution_count": 25,
   "id": "3ba92114",
   "metadata": {},
   "outputs": [],
   "source": [
    "tmp = glob.glob('data/png_folder/*')"
   ]
  },
  {
   "cell_type": "code",
   "execution_count": null,
   "id": "29f57f0c",
   "metadata": {},
   "outputs": [],
   "source": [
    "print(tmp[0])\n",
    "plt.imshow(cv2.imread(tmp[0]));"
   ]
  },
  {
   "cell_type": "markdown",
   "id": "69fba74b",
   "metadata": {
    "papermill": {
     "duration": 0.041661,
     "end_time": "2023-08-12T17:53:44.042540",
     "exception": false,
     "start_time": "2023-08-12T17:53:44.000879",
     "status": "completed"
    },
    "tags": []
   },
   "source": [
    "Done ! "
   ]
  }
 ],
 "metadata": {
  "interpreter": {
   "hash": "ebf7cefaa47097e91cc037b8399cd71813d58b8ffa62ac783dcfda8408a8ad77"
  },
  "kernelspec": {
   "display_name": "Python 3.9.13 ('kaggle')",
   "language": "python",
   "name": "python3"
  },
  "language_info": {
   "codemirror_mode": {
    "name": "ipython",
    "version": 3
   },
   "file_extension": ".py",
   "mimetype": "text/x-python",
   "name": "python",
   "nbconvert_exporter": "python",
   "pygments_lexer": "ipython3",
   "version": "3.9.13"
  },
  "papermill": {
   "default_parameters": {},
   "duration": 6677.910014,
   "end_time": "2023-08-12T17:53:47.148086",
   "environment_variables": {},
   "exception": null,
   "input_path": "__notebook__.ipynb",
   "output_path": "__notebook__.ipynb",
   "parameters": {},
   "start_time": "2023-08-12T16:02:29.238072",
   "version": "2.4.0"
  }
 },
 "nbformat": 4,
 "nbformat_minor": 5
}
