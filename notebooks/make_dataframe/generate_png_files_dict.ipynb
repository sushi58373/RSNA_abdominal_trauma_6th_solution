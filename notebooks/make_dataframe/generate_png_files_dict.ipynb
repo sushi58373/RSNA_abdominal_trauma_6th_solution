{
 "cells": [
  {
   "cell_type": "code",
   "execution_count": 3,
   "metadata": {},
   "outputs": [],
   "source": [
    "import os\n",
    "import pickle\n",
    "import glob\n",
    "import pandas as pd\n",
    "from tqdm import tqdm"
   ]
  },
  {
   "cell_type": "code",
   "execution_count": 4,
   "metadata": {},
   "outputs": [],
   "source": [
    "data_dir = '../../data'\n",
    "png_dir = os.path.join(data_dir, 'png_folder')\n",
    "\n",
    "train_df = pd.read_csv(os.path.join(data_dir, 'train_df.csv'))"
   ]
  },
  {
   "cell_type": "code",
   "execution_count": 5,
   "metadata": {},
   "outputs": [
    {
     "name": "stdout",
     "output_type": "stream",
     "text": [
      "load pickle file\n"
     ]
    }
   ],
   "source": [
    "def gen_pickle(save=False):\n",
    "    \"\"\"\n",
    "        generate pickle file for png_files by \"patient-series id\"\n",
    "        to handle difference of image order between dcm files and png files that ordered by z-axis correctly.\n",
    "    \"\"\"\n",
    "    if os.path.isfile(os.path.join(data_dir, 'd.pkl')):\n",
    "        with open(os.path.join(data_dir, 'd.pkl'), 'rb') as f:\n",
    "            d = pickle.load(f)\n",
    "        print('load pickle file')\n",
    "    else:\n",
    "        print('generate pickle file')\n",
    "        t = glob.glob(png_dir + '/*')\n",
    "        print(len(t))\n",
    "\n",
    "        d = {}\n",
    "        for i, row in tqdm(train_df.iterrows(), total=len(train_df)):\n",
    "            png_suffix = row['png_suffix']\n",
    "            k = png_suffix.split('/')[-1]\n",
    "\n",
    "            d[k] = [k for k in t if png_suffix in k]\n",
    "            d[k] = sorted(d[k], key=lambda x: int(x.split('/')[-1].split('.')[0].split('_')[-1]))\n",
    "\n",
    "        if save:\n",
    "            with open(os.path.join(data_dir, 'd.pkl'), 'wb') as f:\n",
    "                pickle.dump(d, f)\n",
    "            print('save pickle file')\n",
    "        print('generate pickle file')\n",
    "    return d\n",
    "        \n",
    "d = gen_pickle()"
   ]
  },
  {
   "cell_type": "code",
   "execution_count": null,
   "metadata": {},
   "outputs": [],
   "source": []
  }
 ],
 "metadata": {
  "interpreter": {
   "hash": "ebf7cefaa47097e91cc037b8399cd71813d58b8ffa62ac783dcfda8408a8ad77"
  },
  "kernelspec": {
   "display_name": "Python 3.9.13 ('kaggle')",
   "language": "python",
   "name": "python3"
  },
  "language_info": {
   "codemirror_mode": {
    "name": "ipython",
    "version": 3
   },
   "file_extension": ".py",
   "mimetype": "text/x-python",
   "name": "python",
   "nbconvert_exporter": "python",
   "pygments_lexer": "ipython3",
   "version": "3.9.13"
  },
  "orig_nbformat": 4
 },
 "nbformat": 4,
 "nbformat_minor": 2
}
