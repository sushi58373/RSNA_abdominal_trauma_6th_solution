{
 "cells": [
  {
   "cell_type": "code",
   "execution_count": 1,
   "metadata": {},
   "outputs": [],
   "source": [
    "import numpy as np\n",
    "import pandas as pd\n",
    "import os\n",
    "import glob\n",
    "from tqdm import tqdm"
   ]
  },
  {
   "cell_type": "code",
   "execution_count": null,
   "metadata": {},
   "outputs": [],
   "source": [
    "seed = 42\n",
    "\n",
    "DATA_DIR = '../../data'\n",
    "DATASET_DIR = os.path.join(DATA_DIR, 'dataset')\n",
    "\n",
    "train_series_meta = pd.read_csv(os.path.join(DATASET_DIR, 'train_series_meta.csv'))"
   ]
  },
  {
   "cell_type": "code",
   "execution_count": null,
   "metadata": {},
   "outputs": [],
   "source": [
    "path = os.path.join(DATASET_DIR, 'train_images')\n",
    "\n",
    "starts, ends = [], []\n",
    "for i, row in tqdm(train_series_meta.iterrows(), total=len(train_series_meta)):\n",
    "    files = glob.glob(os.path.join(path, str(int(row['patient_id'])), str(int(row['series_id'])), '*'))\n",
    "    files = sorted(files, key=lambda x: int(x.split('/')[-1].split('.')[0]))\n",
    "    _min = int(files[0].split('/')[-1].split('.')[0])\n",
    "    _max = int(files[-1].split('/')[-1].split('.')[0])\n",
    "    starts.append(_min)\n",
    "    ends.append(_max)\n",
    "\n",
    "train_series_meta['start'] = starts\n",
    "train_series_meta['end'] = ends"
   ]
  },
  {
   "cell_type": "code",
   "execution_count": null,
   "metadata": {},
   "outputs": [],
   "source": [
    "train_series_meta.to_csv(os.path.join(DATA_DIR, 'dcm_number.csv'), index=False)"
   ]
  }
 ],
 "metadata": {
  "interpreter": {
   "hash": "ebf7cefaa47097e91cc037b8399cd71813d58b8ffa62ac783dcfda8408a8ad77"
  },
  "kernelspec": {
   "display_name": "Python 3.9.13 ('kaggle')",
   "language": "python",
   "name": "python3"
  },
  "language_info": {
   "codemirror_mode": {
    "name": "ipython",
    "version": 3
   },
   "file_extension": ".py",
   "mimetype": "text/x-python",
   "name": "python",
   "nbconvert_exporter": "python",
   "pygments_lexer": "ipython3",
   "version": "3.9.13"
  },
  "orig_nbformat": 4
 },
 "nbformat": 4,
 "nbformat_minor": 2
}
